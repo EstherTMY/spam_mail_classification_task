{
 "cells": [
  {
   "cell_type": "markdown",
   "metadata": {},
   "source": [
    "## Spam mail classification based on UCI spammail database\n",
    "### Overall Outline\n",
    "\n",
    "1. **Data Explore and Data Clean**\n",
    "\n",
    "2. **Feature Engineering**\n",
    "\n",
    "3. **Model Selection and Model buliding**\n",
    "    - logistic\n",
    "    - SVM\n",
    "    - Descion Tree (Using the grid search to find the best params)\n",
    "    - Random Forest (Using the grid search to find the best params)\n",
    "\n",
    "4. **Evaluation**"
   ]
  },
  {
   "cell_type": "markdown",
   "metadata": {},
   "source": [
    "**Import necessary libraries**"
   ]
  },
  {
   "cell_type": "code",
   "execution_count": 1,
   "metadata": {},
   "outputs": [],
   "source": [
    "import pandas as pd\n",
    "import matplotlib.pyplot as plt\n",
    "import seaborn as sns\n",
    "from sklearn.model_selection import train_test_split\n",
    "from sklearn.metrics import roc_auc_score\n",
    "from sklearn import model_selection\n",
    "from sklearn import preprocessing\n",
    "from sklearn import svm\n",
    "import numpy as np\n",
    "from sklearn import metrics\n",
    "from sklearn.metrics import confusion_matrix \n",
    "from sklearn.model_selection import KFold\n",
    "from sklearn.ensemble import ExtraTreesClassifier\n",
    "from sklearn.ensemble import RandomForestClassifier\n",
    "from sklearn.linear_model import LogisticRegressionCV,LinearRegression,LogisticRegression\n",
    "from sklearn.svm import SVC\n",
    "import warnings\n",
    "warnings.filterwarnings('ignore')"
   ]
  },
  {
   "cell_type": "markdown",
   "metadata": {},
   "source": [
    "**Data Explore and Data Clean**"
   ]
  },
  {
   "cell_type": "code",
   "execution_count": 2,
   "metadata": {},
   "outputs": [],
   "source": [
    "def read_word_label(file = 'spambase/spambase.names'):\n",
    "    feature_labels = []\n",
    "    with open(file, 'r') as f:\n",
    "        data = f.readlines()\n",
    "        for line in data:\n",
    "            if(line.startswith(\"word\") or line.startswith(\"char\") or line.startswith(\"capital\")):\n",
    "                feature_labels.append(line.split(\":\")[0])\n",
    "    feature_labels.append(\"label\")\n",
    "    return feature_labels"
   ]
  },
  {
   "cell_type": "code",
   "execution_count": 3,
   "metadata": {},
   "outputs": [
    {
     "data": {
      "text/html": [
       "<div>\n",
       "<style scoped>\n",
       "    .dataframe tbody tr th:only-of-type {\n",
       "        vertical-align: middle;\n",
       "    }\n",
       "\n",
       "    .dataframe tbody tr th {\n",
       "        vertical-align: top;\n",
       "    }\n",
       "\n",
       "    .dataframe thead th {\n",
       "        text-align: right;\n",
       "    }\n",
       "</style>\n",
       "<table border=\"1\" class=\"dataframe\">\n",
       "  <thead>\n",
       "    <tr style=\"text-align: right;\">\n",
       "      <th></th>\n",
       "      <th>word_freq_make</th>\n",
       "      <th>word_freq_address</th>\n",
       "      <th>word_freq_all</th>\n",
       "      <th>word_freq_3d</th>\n",
       "      <th>word_freq_our</th>\n",
       "      <th>word_freq_over</th>\n",
       "      <th>word_freq_remove</th>\n",
       "      <th>word_freq_internet</th>\n",
       "      <th>word_freq_order</th>\n",
       "      <th>word_freq_mail</th>\n",
       "      <th>...</th>\n",
       "      <th>char_freq_;</th>\n",
       "      <th>char_freq_(</th>\n",
       "      <th>char_freq_[</th>\n",
       "      <th>char_freq_!</th>\n",
       "      <th>char_freq_$</th>\n",
       "      <th>char_freq_#</th>\n",
       "      <th>capital_run_length_average</th>\n",
       "      <th>capital_run_length_longest</th>\n",
       "      <th>capital_run_length_total</th>\n",
       "      <th>label</th>\n",
       "    </tr>\n",
       "  </thead>\n",
       "  <tbody>\n",
       "    <tr>\n",
       "      <th>0</th>\n",
       "      <td>0.00</td>\n",
       "      <td>0.64</td>\n",
       "      <td>0.64</td>\n",
       "      <td>0.0</td>\n",
       "      <td>0.32</td>\n",
       "      <td>0.00</td>\n",
       "      <td>0.00</td>\n",
       "      <td>0.00</td>\n",
       "      <td>0.00</td>\n",
       "      <td>0.00</td>\n",
       "      <td>...</td>\n",
       "      <td>0.00</td>\n",
       "      <td>0.000</td>\n",
       "      <td>0.0</td>\n",
       "      <td>0.778</td>\n",
       "      <td>0.000</td>\n",
       "      <td>0.000</td>\n",
       "      <td>3.756</td>\n",
       "      <td>61</td>\n",
       "      <td>278</td>\n",
       "      <td>1</td>\n",
       "    </tr>\n",
       "    <tr>\n",
       "      <th>1</th>\n",
       "      <td>0.21</td>\n",
       "      <td>0.28</td>\n",
       "      <td>0.50</td>\n",
       "      <td>0.0</td>\n",
       "      <td>0.14</td>\n",
       "      <td>0.28</td>\n",
       "      <td>0.21</td>\n",
       "      <td>0.07</td>\n",
       "      <td>0.00</td>\n",
       "      <td>0.94</td>\n",
       "      <td>...</td>\n",
       "      <td>0.00</td>\n",
       "      <td>0.132</td>\n",
       "      <td>0.0</td>\n",
       "      <td>0.372</td>\n",
       "      <td>0.180</td>\n",
       "      <td>0.048</td>\n",
       "      <td>5.114</td>\n",
       "      <td>101</td>\n",
       "      <td>1028</td>\n",
       "      <td>1</td>\n",
       "    </tr>\n",
       "    <tr>\n",
       "      <th>2</th>\n",
       "      <td>0.06</td>\n",
       "      <td>0.00</td>\n",
       "      <td>0.71</td>\n",
       "      <td>0.0</td>\n",
       "      <td>1.23</td>\n",
       "      <td>0.19</td>\n",
       "      <td>0.19</td>\n",
       "      <td>0.12</td>\n",
       "      <td>0.64</td>\n",
       "      <td>0.25</td>\n",
       "      <td>...</td>\n",
       "      <td>0.01</td>\n",
       "      <td>0.143</td>\n",
       "      <td>0.0</td>\n",
       "      <td>0.276</td>\n",
       "      <td>0.184</td>\n",
       "      <td>0.010</td>\n",
       "      <td>9.821</td>\n",
       "      <td>485</td>\n",
       "      <td>2259</td>\n",
       "      <td>1</td>\n",
       "    </tr>\n",
       "    <tr>\n",
       "      <th>3</th>\n",
       "      <td>0.00</td>\n",
       "      <td>0.00</td>\n",
       "      <td>0.00</td>\n",
       "      <td>0.0</td>\n",
       "      <td>0.63</td>\n",
       "      <td>0.00</td>\n",
       "      <td>0.31</td>\n",
       "      <td>0.63</td>\n",
       "      <td>0.31</td>\n",
       "      <td>0.63</td>\n",
       "      <td>...</td>\n",
       "      <td>0.00</td>\n",
       "      <td>0.137</td>\n",
       "      <td>0.0</td>\n",
       "      <td>0.137</td>\n",
       "      <td>0.000</td>\n",
       "      <td>0.000</td>\n",
       "      <td>3.537</td>\n",
       "      <td>40</td>\n",
       "      <td>191</td>\n",
       "      <td>1</td>\n",
       "    </tr>\n",
       "    <tr>\n",
       "      <th>4</th>\n",
       "      <td>0.00</td>\n",
       "      <td>0.00</td>\n",
       "      <td>0.00</td>\n",
       "      <td>0.0</td>\n",
       "      <td>0.63</td>\n",
       "      <td>0.00</td>\n",
       "      <td>0.31</td>\n",
       "      <td>0.63</td>\n",
       "      <td>0.31</td>\n",
       "      <td>0.63</td>\n",
       "      <td>...</td>\n",
       "      <td>0.00</td>\n",
       "      <td>0.135</td>\n",
       "      <td>0.0</td>\n",
       "      <td>0.135</td>\n",
       "      <td>0.000</td>\n",
       "      <td>0.000</td>\n",
       "      <td>3.537</td>\n",
       "      <td>40</td>\n",
       "      <td>191</td>\n",
       "      <td>1</td>\n",
       "    </tr>\n",
       "  </tbody>\n",
       "</table>\n",
       "<p>5 rows × 58 columns</p>\n",
       "</div>"
      ],
      "text/plain": [
       "   word_freq_make  word_freq_address  word_freq_all  word_freq_3d  \\\n",
       "0            0.00               0.64           0.64           0.0   \n",
       "1            0.21               0.28           0.50           0.0   \n",
       "2            0.06               0.00           0.71           0.0   \n",
       "3            0.00               0.00           0.00           0.0   \n",
       "4            0.00               0.00           0.00           0.0   \n",
       "\n",
       "   word_freq_our  word_freq_over  word_freq_remove  word_freq_internet  \\\n",
       "0           0.32            0.00              0.00                0.00   \n",
       "1           0.14            0.28              0.21                0.07   \n",
       "2           1.23            0.19              0.19                0.12   \n",
       "3           0.63            0.00              0.31                0.63   \n",
       "4           0.63            0.00              0.31                0.63   \n",
       "\n",
       "   word_freq_order  word_freq_mail  ...    char_freq_;  char_freq_(  \\\n",
       "0             0.00            0.00  ...           0.00        0.000   \n",
       "1             0.00            0.94  ...           0.00        0.132   \n",
       "2             0.64            0.25  ...           0.01        0.143   \n",
       "3             0.31            0.63  ...           0.00        0.137   \n",
       "4             0.31            0.63  ...           0.00        0.135   \n",
       "\n",
       "   char_freq_[  char_freq_!  char_freq_$  char_freq_#  \\\n",
       "0          0.0        0.778        0.000        0.000   \n",
       "1          0.0        0.372        0.180        0.048   \n",
       "2          0.0        0.276        0.184        0.010   \n",
       "3          0.0        0.137        0.000        0.000   \n",
       "4          0.0        0.135        0.000        0.000   \n",
       "\n",
       "   capital_run_length_average  capital_run_length_longest  \\\n",
       "0                       3.756                          61   \n",
       "1                       5.114                         101   \n",
       "2                       9.821                         485   \n",
       "3                       3.537                          40   \n",
       "4                       3.537                          40   \n",
       "\n",
       "   capital_run_length_total  label  \n",
       "0                       278      1  \n",
       "1                      1028      1  \n",
       "2                      2259      1  \n",
       "3                       191      1  \n",
       "4                       191      1  \n",
       "\n",
       "[5 rows x 58 columns]"
      ]
     },
     "execution_count": 3,
     "metadata": {},
     "output_type": "execute_result"
    }
   ],
   "source": [
    "spamdata = pd.read_csv(\"spambase/spambase.data\", names = read_word_label()) # Read data\n",
    "spamdata.head()"
   ]
  },
  {
   "cell_type": "code",
   "execution_count": 4,
   "metadata": {},
   "outputs": [
    {
     "name": "stdout",
     "output_type": "stream",
     "text": [
      "<class 'pandas.core.frame.DataFrame'>\n",
      "RangeIndex: 4601 entries, 0 to 4600\n",
      "Data columns (total 58 columns):\n",
      "word_freq_make                4601 non-null float64\n",
      "word_freq_address             4601 non-null float64\n",
      "word_freq_all                 4601 non-null float64\n",
      "word_freq_3d                  4601 non-null float64\n",
      "word_freq_our                 4601 non-null float64\n",
      "word_freq_over                4601 non-null float64\n",
      "word_freq_remove              4601 non-null float64\n",
      "word_freq_internet            4601 non-null float64\n",
      "word_freq_order               4601 non-null float64\n",
      "word_freq_mail                4601 non-null float64\n",
      "word_freq_receive             4601 non-null float64\n",
      "word_freq_will                4601 non-null float64\n",
      "word_freq_people              4601 non-null float64\n",
      "word_freq_report              4601 non-null float64\n",
      "word_freq_addresses           4601 non-null float64\n",
      "word_freq_free                4601 non-null float64\n",
      "word_freq_business            4601 non-null float64\n",
      "word_freq_email               4601 non-null float64\n",
      "word_freq_you                 4601 non-null float64\n",
      "word_freq_credit              4601 non-null float64\n",
      "word_freq_your                4601 non-null float64\n",
      "word_freq_font                4601 non-null float64\n",
      "word_freq_000                 4601 non-null float64\n",
      "word_freq_money               4601 non-null float64\n",
      "word_freq_hp                  4601 non-null float64\n",
      "word_freq_hpl                 4601 non-null float64\n",
      "word_freq_george              4601 non-null float64\n",
      "word_freq_650                 4601 non-null float64\n",
      "word_freq_lab                 4601 non-null float64\n",
      "word_freq_labs                4601 non-null float64\n",
      "word_freq_telnet              4601 non-null float64\n",
      "word_freq_857                 4601 non-null float64\n",
      "word_freq_data                4601 non-null float64\n",
      "word_freq_415                 4601 non-null float64\n",
      "word_freq_85                  4601 non-null float64\n",
      "word_freq_technology          4601 non-null float64\n",
      "word_freq_1999                4601 non-null float64\n",
      "word_freq_parts               4601 non-null float64\n",
      "word_freq_pm                  4601 non-null float64\n",
      "word_freq_direct              4601 non-null float64\n",
      "word_freq_cs                  4601 non-null float64\n",
      "word_freq_meeting             4601 non-null float64\n",
      "word_freq_original            4601 non-null float64\n",
      "word_freq_project             4601 non-null float64\n",
      "word_freq_re                  4601 non-null float64\n",
      "word_freq_edu                 4601 non-null float64\n",
      "word_freq_table               4601 non-null float64\n",
      "word_freq_conference          4601 non-null float64\n",
      "char_freq_;                   4601 non-null float64\n",
      "char_freq_(                   4601 non-null float64\n",
      "char_freq_[                   4601 non-null float64\n",
      "char_freq_!                   4601 non-null float64\n",
      "char_freq_$                   4601 non-null float64\n",
      "char_freq_#                   4601 non-null float64\n",
      "capital_run_length_average    4601 non-null float64\n",
      "capital_run_length_longest    4601 non-null int64\n",
      "capital_run_length_total      4601 non-null int64\n",
      "label                         4601 non-null int64\n",
      "dtypes: float64(55), int64(3)\n",
      "memory usage: 2.0 MB\n"
     ]
    }
   ],
   "source": [
    "### Observe the overall description about the data\n",
    "spamdata.info() # There is no missing data in this data set. \n",
    "# If it has, we need to find a method to fill the NA values."
   ]
  },
  {
   "cell_type": "code",
   "execution_count": 5,
   "metadata": {},
   "outputs": [
    {
     "data": {
      "image/png": "[encoded data removed]",
      "text/plain": [
       "<Figure size 720x360 with 2 Axes>"
      ]
     },
     "metadata": {
      "needs_background": "light"
     },
     "output_type": "display_data"
    }
   ],
   "source": [
    "### Observe the balance of the dataset, \n",
    "###if the data is very unbalanced, we need to perform oversampling or undersampling techniques\n",
    "spam_mail = spamdata['label'].value_counts()[1]\n",
    "not_spam_mail = spamdata['label'].value_counts()[0]\n",
    "plt.figure(figsize = (10,5))\n",
    "plt.subplot(121)\n",
    "sns.countplot(x='label', data=spamdata)\n",
    "plt.title('not_spam_mail')\n",
    "plt.subplot(122)\n",
    "plt.pie([spam_mail, not_spam_mail],labels=['spam_mail','not_spam_mail'],autopct='%1.0f%%')\n",
    "plt.title('spam mail rate') \n",
    "plt.show()\n",
    "### This data set is OK, do not need to balance the data"
   ]
  },
  {
   "cell_type": "markdown",
   "metadata": {},
   "source": [
    "**Feature Engineering**"
   ]
  },
  {
   "cell_type": "code",
   "execution_count": 6,
   "metadata": {},
   "outputs": [
    {
     "data": {
      "text/plain": [
       "label               1.000000\n",
       "word_freq_your      0.383234\n",
       "word_freq_000       0.334787\n",
       "word_freq_remove    0.332117\n",
       "char_freq_$         0.323629\n",
       "Name: label, dtype: float64"
      ]
     },
     "execution_count": 6,
     "metadata": {},
     "output_type": "execute_result"
    }
   ],
   "source": [
    "spamdata.corr()['label'].sort_values(ascending=False).head()"
   ]
  },
  {
   "cell_type": "markdown",
   "metadata": {},
   "source": [
    "From the corresponding matrix, we can see that all the data correlation coefficients are not too small.\n",
    "Therefore, using all of them to build a classifer"
   ]
  },
  {
   "cell_type": "code",
   "execution_count": 7,
   "metadata": {},
   "outputs": [],
   "source": [
    "### Using grid search method to find the best parameters for each machine learning method.\n",
    "def grid_search_model(clf, params):\n",
    "    grid = GridSearchCV(clf,params, cv = 10,scoring= \"roc_auc\")\n",
    "    res = grid.fit(X_TRAIN,y_TRAIN)\n",
    "    return res"
   ]
  },
  {
   "cell_type": "code",
   "execution_count": 8,
   "metadata": {},
   "outputs": [],
   "source": [
    "## Using the grid search to find the best parameters\n",
    "et_params = {\n",
    "    'n_jobs': [-1],\n",
    "    'n_estimators': [i*10 for i in range(1,10)],\n",
    "    'max_features': [\"sqrt\"],\n",
    "    'max_depth': [i for i in range(1,10)],\n",
    "    'min_samples_leaf': [2],\n",
    "    \"class_weight\":[\"balanced\"]\n",
    "    \n",
    "}\n",
    "\n",
    "rf_params = {\n",
    "    'n_jobs': [-1],\n",
    "    'n_estimators': [i*10 for i in range(1,10)],\n",
    "    'max_features': [i/10 for i in range(1,10)],\n",
    "    'max_depth': [3],\n",
    "    'min_samples_leaf': [2],\n",
    "    \"class_weight\":[\"balanced\"]\n",
    "}\n",
    "\n",
    "svm_params = {\n",
    "    \"class_weight\":\"balanced\",\n",
    "    \"gamma\": \"scale\",\n",
    "    \"probability\":True,\n",
    "    \"kernel\" :\"rbf\",\n",
    "    \"probability\":True\n",
    "}"
   ]
  },
  {
   "cell_type": "markdown",
   "metadata": {},
   "source": [
    "**Perform some grid search**"
   ]
  },
  {
   "cell_type": "code",
   "execution_count": 9,
   "metadata": {
    "scrolled": false
   },
   "outputs": [],
   "source": [
    "## grid search\n",
    "# et_res = grid_search_model(ExtraTreesClassifier(),et_params)\n",
    "# rf_res = grid_search_model(RandomForestClassifier(),rf_params)\n",
    "\n",
    "# save grid search results\n",
    "import pickle\n",
    "# pickle.dump(et_res,open(\"./et_res.pkl\",\"wb\"))\n",
    "# pickle.dump(rf_res,open(\"./rf_res.pkl\",\"wb\"))\n",
    "\n",
    "# reload grid search results\n",
    "et_res = pickle.load(open(\"./et_res.pkl\",\"rb\"))\n",
    "rf_res = pickle.load(open(\"./rf_res.pkl\",\"rb\"))"
   ]
  },
  {
   "cell_type": "code",
   "execution_count": 10,
   "metadata": {},
   "outputs": [],
   "source": [
    "def get_average(error_list):\n",
    "    sum = 0\n",
    "    for i in error_list:\n",
    "        sum += i\n",
    "    return sum/len(error_list)"
   ]
  },
  {
   "cell_type": "markdown",
   "metadata": {},
   "source": [
    "**Build K fold performance method for each algorithm**"
   ]
  },
  {
   "cell_type": "code",
   "execution_count": 11,
   "metadata": {},
   "outputs": [],
   "source": [
    "def k_fold_performance(clf,K):\n",
    "    ERRS = []\n",
    "    ### Split the data to training set and testing set.\n",
    "    train_np = spamdata.values\n",
    "    y = train_np[:, 57]\n",
    "    X = train_np[:, 0:57]\n",
    "    ### Using K-flod method to split dataset to 10 fold (9 for training and 1 for testing)\n",
    "    kf = KFold(n_splits=K, random_state=42, shuffle=True)\n",
    "    i = 0\n",
    "    for train, test in kf.split(spamdata.values):\n",
    "        i += 1\n",
    "        print(\"k-fold：%d iteration\" % (i))\n",
    "        X_train,X_test=X[train],X[test]\n",
    "        Y_train,Y_test=y[train],y[test]\n",
    "        ### Data normalization\n",
    "        X_train = preprocessing.minmax_scale(X_train)\n",
    "        X_test = preprocessing.minmax_scale(X_test)\n",
    "        clf = clf.fit(X_train, Y_train)\n",
    "        y_pred = clf.predict(X_test)\n",
    "        tn, fp, fn, tp = confusion_matrix(Y_test, y_pred).ravel()\n",
    "        print (\"False Positive: \",fp)\n",
    "        print (\"False Negative: \",fn)\n",
    "        ERR = (fp+fn)/len(Y_test)\n",
    "        print (\"Error Rate: \",ERR)\n",
    "        ERRS.append(ERR)\n",
    "        print (\"---------------------------\")\n",
    "    print (\"Average Error Rate\", get_average(ERRS))\n",
    "    print (\"---------------------------\")"
   ]
  },
  {
   "cell_type": "markdown",
   "metadata": {},
   "source": [
    "**Building models and print out the evaluations**"
   ]
  },
  {
   "cell_type": "code",
   "execution_count": 12,
   "metadata": {
    "scrolled": true
   },
   "outputs": [
    {
     "name": "stdout",
     "output_type": "stream",
     "text": [
      "Decision Tree\n",
      "k-fold：1 iteration\n",
      "False Positive:  95\n",
      "False Negative:  60\n",
      "Error Rate:  0.10104302477183832\n",
      "---------------------------\n",
      "k-fold：2 iteration\n",
      "False Positive:  73\n",
      "False Negative:  74\n",
      "Error Rate:  0.09582790091264667\n",
      "---------------------------\n",
      "k-fold：3 iteration\n",
      "False Positive:  22\n",
      "False Negative:  108\n",
      "Error Rate:  0.08480104370515329\n",
      "---------------------------\n",
      "Average Error Rate 0.09389065646321276\n",
      "---------------------------\n"
     ]
    }
   ],
   "source": [
    "print (\"Decision Tree\")\n",
    "clf = ExtraTreesClassifier(**et_res.best_params_)\n",
    "k_fold_performance(clf,3)"
   ]
  },
  {
   "cell_type": "code",
   "execution_count": 13,
   "metadata": {},
   "outputs": [
    {
     "name": "stdout",
     "output_type": "stream",
     "text": [
      "Random Forest\n",
      "k-fold：1 iteration\n",
      "False Positive:  85\n",
      "False Negative:  58\n",
      "Error Rate:  0.09322033898305085\n",
      "---------------------------\n",
      "k-fold：2 iteration\n",
      "False Positive:  130\n",
      "False Negative:  44\n",
      "Error Rate:  0.11342894393741851\n",
      "---------------------------\n",
      "k-fold：3 iteration\n",
      "False Positive:  17\n",
      "False Negative:  131\n",
      "Error Rate:  0.09654272667971298\n",
      "---------------------------\n",
      "Average Error Rate 0.10106400320006077\n",
      "---------------------------\n"
     ]
    }
   ],
   "source": [
    "print (\"Random Forest\")\n",
    "clf = RandomForestClassifier(**rf_res.best_params_)\n",
    "k_fold_performance(clf,3)"
   ]
  },
  {
   "cell_type": "code",
   "execution_count": 14,
   "metadata": {},
   "outputs": [
    {
     "name": "stdout",
     "output_type": "stream",
     "text": [
      "svm\n",
      "k-fold：1 iteration\n",
      "False Positive:  51\n",
      "False Negative:  227\n",
      "Error Rate:  0.18122555410691005\n",
      "---------------------------\n",
      "k-fold：2 iteration\n",
      "False Positive:  41\n",
      "False Negative:  206\n",
      "Error Rate:  0.16101694915254236\n",
      "---------------------------\n",
      "k-fold：3 iteration\n",
      "False Positive:  28\n",
      "False Negative:  296\n",
      "Error Rate:  0.21135029354207435\n",
      "---------------------------\n",
      "Average Error Rate 0.18453093226717557\n",
      "---------------------------\n"
     ]
    }
   ],
   "source": [
    "print (\"svm\")\n",
    "clf = SVC()\n",
    "k_fold_performance(clf,3)"
   ]
  },
  {
   "cell_type": "code",
   "execution_count": 15,
   "metadata": {},
   "outputs": [
    {
     "name": "stdout",
     "output_type": "stream",
     "text": [
      "Logistic Regression\n",
      "k-fold：1 iteration\n",
      "False Positive:  69\n",
      "False Negative:  79\n",
      "Error Rate:  0.09647979139504563\n",
      "---------------------------\n",
      "k-fold：2 iteration\n",
      "False Positive:  70\n",
      "False Negative:  66\n",
      "Error Rate:  0.08865710560625815\n",
      "---------------------------\n",
      "k-fold：3 iteration\n",
      "False Positive:  47\n",
      "False Negative:  153\n",
      "Error Rate:  0.1304631441617743\n",
      "---------------------------\n",
      "Average Error Rate 0.10520001372102601\n",
      "---------------------------\n"
     ]
    }
   ],
   "source": [
    "print (\"Logistic Regression\")\n",
    "clf = LogisticRegression()\n",
    "k_fold_performance(clf,3)"
   ]
  }
 ],
 "metadata": {
  "kernelspec": {
   "display_name": "Python 3",
   "language": "python",
   "name": "python3"
  },
  "language_info": {
   "codemirror_mode": {
    "name": "ipython",
    "version": 3
   },
   "file_extension": ".py",
   "mimetype": "text/x-python",
   "name": "python",
   "nbconvert_exporter": "python",
   "pygments_lexer": "ipython3",
   "version": "3.6.5"
  }
 },
 "nbformat": 4,
 "nbformat_minor": 2
}
